{
 "cells": [
  {
   "cell_type": "code",
   "execution_count": 1,
   "metadata": {},
   "outputs": [],
   "source": [
    "import cProfile\n",
    "import cv2\n",
    "import numpy as np\n",
    "import matplotlib.pyplot as plt\n",
    "import os\n",
    "import shutil\n",
    "from functools import partial\n",
    "from tqdm import tqdm"
   ]
  },
  {
   "cell_type": "code",
   "execution_count": 23,
   "metadata": {},
   "outputs": [],
   "source": []
  },
  {
   "cell_type": "code",
   "execution_count": 2,
   "metadata": {},
   "outputs": [],
   "source": [
    "def category_copy(category, from_p, to_p, sample_frac):\n",
    "    from_p_category = os.path.join(from_p, category)\n",
    "    to_p_category = os.path.join(to_p, category)\n",
    "    \n",
    "    N = len(os.listdir(from_p_category))\n",
    "    sample_size = int(sample_frac * N)\n",
    "    for file in sorted(np.random.choice(os.listdir(from_p_category), sample_size)):\n",
    "        from_file_path = os.path.join(from_p_category, file)\n",
    "        to_file_path = os.path.join(to_p_category, file)\n",
    "\n",
    "        os.makedirs(to_p_category, exist_ok=True)\n",
    "        shutil.copyfile(from_file_path, to_file_path)"
   ]
  },
  {
   "cell_type": "code",
   "execution_count": 6,
   "metadata": {},
   "outputs": [],
   "source": [
    "def sub_sample_files(sample_from, sample_to, sample_frac):\n",
    "    for rec in os.listdir(sample_from):\n",
    "        from_p = os.path.join(sample_from, rec)\n",
    "        to_p = os.path.join(sample_to, rec)\n",
    "        \n",
    "        for category in tqdm(os.listdir(from_p)):\n",
    "            category_copy(category, from_p, to_p, sample_frac)"
   ]
  },
  {
   "cell_type": "code",
   "execution_count": 4,
   "metadata": {},
   "outputs": [
    {
     "name": "stderr",
     "output_type": "stream",
     "text": [
      "100%|██████████| 1/1 [00:01<00:00,  1.87s/it]\n",
      "100%|██████████| 1/1 [00:00<00:00,  3.52it/s]\n"
     ]
    }
   ],
   "source": [
    "sub_sample_files(\"../../data/img_data/full/\", \"../../data/img_data/large/\", 0.1)"
   ]
  },
  {
   "cell_type": "code",
   "execution_count": 8,
   "metadata": {},
   "outputs": [
    {
     "name": "stderr",
     "output_type": "stream",
     "text": [
      "100%|██████████| 340/340 [07:17<00:00,  1.11s/it]\n",
      "100%|██████████| 340/340 [00:38<00:00,  7.91it/s]\n"
     ]
    }
   ],
   "source": [
    "sub_sample_files(\"../../data/img_data/full/\", \"../../data/img_data/medium/\", 0.01)"
   ]
  },
  {
   "cell_type": "code",
   "execution_count": 7,
   "metadata": {},
   "outputs": [
    {
     "name": "stderr",
     "output_type": "stream",
     "text": [
      "100%|██████████| 340/340 [01:42<00:00,  3.64it/s]\n",
      "100%|██████████| 340/340 [00:08<00:00, 38.94it/s]\n"
     ]
    }
   ],
   "source": [
    "sub_sample_files(\"../../data/img_data/full/\", \"../../data/img_data/small/\", 0.001)\n",
    "\n"
   ]
  },
  {
   "cell_type": "code",
   "execution_count": null,
   "metadata": {},
   "outputs": [],
   "source": [
    "    # pr = cProfile.Profile()\n",
    "    # pr.enable()\n",
    "    # sub_sample_files(\"../../data/img_data/full/\", \"../../data/img_data/small/\", 0.001)\n",
    "    # pr.disable()\n",
    "    # pr.print_stats(sort='time')\n"
   ]
  }
 ],
 "metadata": {
  "kernelspec": {
   "display_name": "Python 3",
   "language": "python",
   "name": "python3"
  },
  "language_info": {
   "codemirror_mode": {
    "name": "ipython",
    "version": 3
   },
   "file_extension": ".py",
   "mimetype": "text/x-python",
   "name": "python",
   "nbconvert_exporter": "python",
   "pygments_lexer": "ipython3",
   "version": "3.6.5"
  }
 },
 "nbformat": 4,
 "nbformat_minor": 2
}
