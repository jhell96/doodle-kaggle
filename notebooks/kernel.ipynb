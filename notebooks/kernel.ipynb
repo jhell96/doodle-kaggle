{
 "cells": [
  {
   "cell_type": "code",
   "execution_count": 129,
   "metadata": {
    "_kg_hide-input": true,
    "_uuid": "ce6d2aa7de1fa341144def7d3a5b1ffdea26bc91"
   },
   "outputs": [],
   "source": [
    "%matplotlib inline\n",
    "from IPython.core.interactiveshell import InteractiveShell\n",
    "InteractiveShell.ast_node_interactivity = \"all\"\n",
    "import os\n",
    "import ast\n",
    "import datetime as dt\n",
    "import matplotlib.pyplot as plt\n",
    "plt.rcParams['figure.figsize'] = [16, 10]\n",
    "plt.rcParams['font.size'] = 14\n",
    "import seaborn as sns\n",
    "import cv2\n",
    "import pandas as pd\n",
    "import numpy as np\n",
    "import tensorflow as tf\n",
    "from tensorflow import keras\n",
    "from tensorflow.keras.layers import Conv2D, MaxPooling2D\n",
    "from tensorflow.keras.layers import Dense, Dropout, Flatten, Activation\n",
    "from tensorflow.keras.metrics import categorical_accuracy, top_k_categorical_accuracy, categorical_crossentropy\n",
    "from tensorflow.keras.models import Sequential\n",
    "from tensorflow.keras.callbacks import EarlyStopping, ReduceLROnPlateau, ModelCheckpoint\n",
    "from tensorflow.keras.optimizers import Adam, SGD\n",
    "from tensorflow.keras.applications import NASNetMobile, MobileNetV2, InceptionResNetV2, ResNet50, MobileNet\n",
    "from tensorflow.keras.applications.mobilenet_v2 import preprocess_input\n",
    "from tensorflow.keras.models import load_model\n",
    "from functools import partial\n",
    "from multiprocessing import Pool\n",
    "from super_convergence.clr import OneCycleLR\n",
    "from PIL import Image\n",
    "\n",
    "import time\n",
    "start = dt.datetime.now()"
   ]
  },
  {
   "cell_type": "code",
   "execution_count": 160,
   "metadata": {
    "_kg_hide-input": true,
    "_uuid": "978b1e827e598c53df3ef09838a6d85591d83052"
   },
   "outputs": [],
   "source": [
    "DP_DIR = ''\n",
    "INPUT_DIR = ''\n",
    "\n",
    "BASE_SIZE = 256\n",
    "NCSVS = 100\n",
    "NCATS = 340\n",
    "np.random.seed(seed=1987)\n",
    "tf.set_random_seed(seed=1987)\n",
    "\n",
    "def f2cat(filename: str) -> str:\n",
    "    return filename.split('.')[0]\n",
    "\n",
    "def list_all_categories():\n",
    "    files = os.listdir(os.path.join(INPUT_DIR, '../../data/train_simplified'))\n",
    "    return sorted([f2cat(f) for f in files], key=str.lower)"
   ]
  },
  {
   "cell_type": "code",
   "execution_count": 131,
   "metadata": {
    "_kg_hide-input": true,
    "_uuid": "b2fcd1a08ae1ae0619be38a113a244eb6515b63b"
   },
   "outputs": [],
   "source": [
    "def apk(actual, predicted, k=3):\n",
    "    \"\"\"\n",
    "    Source: https://github.com/benhamner/Metrics/blob/master/Python/ml_metrics/average_precision.py\n",
    "    \"\"\"\n",
    "    if len(predicted) > k:\n",
    "        predicted = predicted[:k]\n",
    "    score = 0.0\n",
    "    num_hits = 0.0\n",
    "    for i, p in enumerate(predicted):\n",
    "        if p in actual and p not in predicted[:i]:\n",
    "            num_hits += 1.0\n",
    "            score += num_hits / (i + 1.0)\n",
    "    if not actual:\n",
    "        return 0.0\n",
    "    return score / min(len(actual), k)\n",
    "\n",
    "def mapk(actual, predicted, k=3):\n",
    "    \"\"\"\n",
    "    Source: https://github.com/benhamner/Metrics/blob/master/Python/ml_metrics/average_precision.py\n",
    "    \"\"\"\n",
    "    return np.mean([apk(a, p, k) for a, p in zip(actual, predicted)])\n",
    "\n",
    "def preds2catids(predictions):\n",
    "    return pd.DataFrame(np.argsort(-predictions, axis=1)[:, :3], columns=['a', 'b', 'c'])\n",
    "\n",
    "def top_3_accuracy(y_true, y_pred):\n",
    "    return top_k_categorical_accuracy(y_true, y_pred, k=3)"
   ]
  },
  {
   "cell_type": "code",
   "execution_count": 186,
   "metadata": {
    "_uuid": "54e5f0c637195b6624e2f3e6db5e7f8990e14eb7"
   },
   "outputs": [],
   "source": [
    "batchsize = 64\n",
    "NUM_SAMPLES = 500000\n",
    "STEPS = NUM_SAMPLES//batchsize \n",
    "EPOCHS = 100\n",
    "size = 128\n",
    "\n"
   ]
  },
  {
   "cell_type": "code",
   "execution_count": 183,
   "metadata": {
    "_kg_hide-output": true,
    "_uuid": "0860ec35bee03f0c5cd21202dc7471c2d201cf5f",
    "scrolled": true
   },
   "outputs": [
    {
     "name": "stdout",
     "output_type": "stream",
     "text": [
      "_________________________________________________________________\n",
      "Layer (type)                 Output Shape              Param #   \n",
      "=================================================================\n",
      "input_21 (InputLayer)        (None, 128, 128, 1)       0         \n",
      "_________________________________________________________________\n",
      "conv1_pad (ZeroPadding2D)    (None, 129, 129, 1)       0         \n",
      "_________________________________________________________________\n",
      "conv1 (Conv2D)               (None, 64, 64, 32)        288       \n",
      "_________________________________________________________________\n",
      "conv1_bn (BatchNormalization (None, 64, 64, 32)        128       \n",
      "_________________________________________________________________\n",
      "conv1_relu (ReLU)            (None, 64, 64, 32)        0         \n",
      "_________________________________________________________________\n",
      "conv_dw_1 (DepthwiseConv2D)  (None, 64, 64, 32)        288       \n",
      "_________________________________________________________________\n",
      "conv_dw_1_bn (BatchNormaliza (None, 64, 64, 32)        128       \n",
      "_________________________________________________________________\n",
      "conv_dw_1_relu (ReLU)        (None, 64, 64, 32)        0         \n",
      "_________________________________________________________________\n",
      "conv_pw_1 (Conv2D)           (None, 64, 64, 64)        2048      \n",
      "_________________________________________________________________\n",
      "conv_pw_1_bn (BatchNormaliza (None, 64, 64, 64)        256       \n",
      "_________________________________________________________________\n",
      "conv_pw_1_relu (ReLU)        (None, 64, 64, 64)        0         \n",
      "_________________________________________________________________\n",
      "conv_pad_2 (ZeroPadding2D)   (None, 65, 65, 64)        0         \n",
      "_________________________________________________________________\n",
      "conv_dw_2 (DepthwiseConv2D)  (None, 32, 32, 64)        576       \n",
      "_________________________________________________________________\n",
      "conv_dw_2_bn (BatchNormaliza (None, 32, 32, 64)        256       \n",
      "_________________________________________________________________\n",
      "conv_dw_2_relu (ReLU)        (None, 32, 32, 64)        0         \n",
      "_________________________________________________________________\n",
      "conv_pw_2 (Conv2D)           (None, 32, 32, 128)       8192      \n",
      "_________________________________________________________________\n",
      "conv_pw_2_bn (BatchNormaliza (None, 32, 32, 128)       512       \n",
      "_________________________________________________________________\n",
      "conv_pw_2_relu (ReLU)        (None, 32, 32, 128)       0         \n",
      "_________________________________________________________________\n",
      "conv_dw_3 (DepthwiseConv2D)  (None, 32, 32, 128)       1152      \n",
      "_________________________________________________________________\n",
      "conv_dw_3_bn (BatchNormaliza (None, 32, 32, 128)       512       \n",
      "_________________________________________________________________\n",
      "conv_dw_3_relu (ReLU)        (None, 32, 32, 128)       0         \n",
      "_________________________________________________________________\n",
      "conv_pw_3 (Conv2D)           (None, 32, 32, 128)       16384     \n",
      "_________________________________________________________________\n",
      "conv_pw_3_bn (BatchNormaliza (None, 32, 32, 128)       512       \n",
      "_________________________________________________________________\n",
      "conv_pw_3_relu (ReLU)        (None, 32, 32, 128)       0         \n",
      "_________________________________________________________________\n",
      "conv_pad_4 (ZeroPadding2D)   (None, 33, 33, 128)       0         \n",
      "_________________________________________________________________\n",
      "conv_dw_4 (DepthwiseConv2D)  (None, 16, 16, 128)       1152      \n",
      "_________________________________________________________________\n",
      "conv_dw_4_bn (BatchNormaliza (None, 16, 16, 128)       512       \n",
      "_________________________________________________________________\n",
      "conv_dw_4_relu (ReLU)        (None, 16, 16, 128)       0         \n",
      "_________________________________________________________________\n",
      "conv_pw_4 (Conv2D)           (None, 16, 16, 256)       32768     \n",
      "_________________________________________________________________\n",
      "conv_pw_4_bn (BatchNormaliza (None, 16, 16, 256)       1024      \n",
      "_________________________________________________________________\n",
      "conv_pw_4_relu (ReLU)        (None, 16, 16, 256)       0         \n",
      "_________________________________________________________________\n",
      "conv_dw_5 (DepthwiseConv2D)  (None, 16, 16, 256)       2304      \n",
      "_________________________________________________________________\n",
      "conv_dw_5_bn (BatchNormaliza (None, 16, 16, 256)       1024      \n",
      "_________________________________________________________________\n",
      "conv_dw_5_relu (ReLU)        (None, 16, 16, 256)       0         \n",
      "_________________________________________________________________\n",
      "conv_pw_5 (Conv2D)           (None, 16, 16, 256)       65536     \n",
      "_________________________________________________________________\n",
      "conv_pw_5_bn (BatchNormaliza (None, 16, 16, 256)       1024      \n",
      "_________________________________________________________________\n",
      "conv_pw_5_relu (ReLU)        (None, 16, 16, 256)       0         \n",
      "_________________________________________________________________\n",
      "conv_pad_6 (ZeroPadding2D)   (None, 17, 17, 256)       0         \n",
      "_________________________________________________________________\n",
      "conv_dw_6 (DepthwiseConv2D)  (None, 8, 8, 256)         2304      \n",
      "_________________________________________________________________\n",
      "conv_dw_6_bn (BatchNormaliza (None, 8, 8, 256)         1024      \n",
      "_________________________________________________________________\n",
      "conv_dw_6_relu (ReLU)        (None, 8, 8, 256)         0         \n",
      "_________________________________________________________________\n",
      "conv_pw_6 (Conv2D)           (None, 8, 8, 512)         131072    \n",
      "_________________________________________________________________\n",
      "conv_pw_6_bn (BatchNormaliza (None, 8, 8, 512)         2048      \n",
      "_________________________________________________________________\n",
      "conv_pw_6_relu (ReLU)        (None, 8, 8, 512)         0         \n",
      "_________________________________________________________________\n",
      "conv_dw_7 (DepthwiseConv2D)  (None, 8, 8, 512)         4608      \n",
      "_________________________________________________________________\n",
      "conv_dw_7_bn (BatchNormaliza (None, 8, 8, 512)         2048      \n",
      "_________________________________________________________________\n",
      "conv_dw_7_relu (ReLU)        (None, 8, 8, 512)         0         \n",
      "_________________________________________________________________\n",
      "conv_pw_7 (Conv2D)           (None, 8, 8, 512)         262144    \n",
      "_________________________________________________________________\n",
      "conv_pw_7_bn (BatchNormaliza (None, 8, 8, 512)         2048      \n",
      "_________________________________________________________________\n",
      "conv_pw_7_relu (ReLU)        (None, 8, 8, 512)         0         \n",
      "_________________________________________________________________\n",
      "conv_dw_8 (DepthwiseConv2D)  (None, 8, 8, 512)         4608      \n",
      "_________________________________________________________________\n",
      "conv_dw_8_bn (BatchNormaliza (None, 8, 8, 512)         2048      \n",
      "_________________________________________________________________\n",
      "conv_dw_8_relu (ReLU)        (None, 8, 8, 512)         0         \n",
      "_________________________________________________________________\n",
      "conv_pw_8 (Conv2D)           (None, 8, 8, 512)         262144    \n",
      "_________________________________________________________________\n",
      "conv_pw_8_bn (BatchNormaliza (None, 8, 8, 512)         2048      \n",
      "_________________________________________________________________\n",
      "conv_pw_8_relu (ReLU)        (None, 8, 8, 512)         0         \n",
      "_________________________________________________________________\n",
      "conv_dw_9 (DepthwiseConv2D)  (None, 8, 8, 512)         4608      \n",
      "_________________________________________________________________\n",
      "conv_dw_9_bn (BatchNormaliza (None, 8, 8, 512)         2048      \n",
      "_________________________________________________________________\n",
      "conv_dw_9_relu (ReLU)        (None, 8, 8, 512)         0         \n",
      "_________________________________________________________________\n",
      "conv_pw_9 (Conv2D)           (None, 8, 8, 512)         262144    \n",
      "_________________________________________________________________\n",
      "conv_pw_9_bn (BatchNormaliza (None, 8, 8, 512)         2048      \n",
      "_________________________________________________________________\n",
      "conv_pw_9_relu (ReLU)        (None, 8, 8, 512)         0         \n",
      "_________________________________________________________________\n",
      "conv_dw_10 (DepthwiseConv2D) (None, 8, 8, 512)         4608      \n",
      "_________________________________________________________________\n",
      "conv_dw_10_bn (BatchNormaliz (None, 8, 8, 512)         2048      \n",
      "_________________________________________________________________\n",
      "conv_dw_10_relu (ReLU)       (None, 8, 8, 512)         0         \n",
      "_________________________________________________________________\n",
      "conv_pw_10 (Conv2D)          (None, 8, 8, 512)         262144    \n",
      "_________________________________________________________________\n",
      "conv_pw_10_bn (BatchNormaliz (None, 8, 8, 512)         2048      \n",
      "_________________________________________________________________\n",
      "conv_pw_10_relu (ReLU)       (None, 8, 8, 512)         0         \n",
      "_________________________________________________________________\n",
      "conv_dw_11 (DepthwiseConv2D) (None, 8, 8, 512)         4608      \n",
      "_________________________________________________________________\n",
      "conv_dw_11_bn (BatchNormaliz (None, 8, 8, 512)         2048      \n",
      "_________________________________________________________________\n",
      "conv_dw_11_relu (ReLU)       (None, 8, 8, 512)         0         \n",
      "_________________________________________________________________\n",
      "conv_pw_11 (Conv2D)          (None, 8, 8, 512)         262144    \n",
      "_________________________________________________________________\n",
      "conv_pw_11_bn (BatchNormaliz (None, 8, 8, 512)         2048      \n",
      "_________________________________________________________________\n",
      "conv_pw_11_relu (ReLU)       (None, 8, 8, 512)         0         \n",
      "_________________________________________________________________\n",
      "conv_pad_12 (ZeroPadding2D)  (None, 9, 9, 512)         0         \n",
      "_________________________________________________________________\n",
      "conv_dw_12 (DepthwiseConv2D) (None, 4, 4, 512)         4608      \n",
      "_________________________________________________________________\n",
      "conv_dw_12_bn (BatchNormaliz (None, 4, 4, 512)         2048      \n",
      "_________________________________________________________________\n",
      "conv_dw_12_relu (ReLU)       (None, 4, 4, 512)         0         \n",
      "_________________________________________________________________\n",
      "conv_pw_12 (Conv2D)          (None, 4, 4, 1024)        524288    \n",
      "_________________________________________________________________\n",
      "conv_pw_12_bn (BatchNormaliz (None, 4, 4, 1024)        4096      \n",
      "_________________________________________________________________\n",
      "conv_pw_12_relu (ReLU)       (None, 4, 4, 1024)        0         \n",
      "_________________________________________________________________\n",
      "conv_dw_13 (DepthwiseConv2D) (None, 4, 4, 1024)        9216      \n",
      "_________________________________________________________________\n",
      "conv_dw_13_bn (BatchNormaliz (None, 4, 4, 1024)        4096      \n",
      "_________________________________________________________________\n",
      "conv_dw_13_relu (ReLU)       (None, 4, 4, 1024)        0         \n",
      "_________________________________________________________________\n",
      "conv_pw_13 (Conv2D)          (None, 4, 4, 1024)        1048576   \n",
      "_________________________________________________________________\n",
      "conv_pw_13_bn (BatchNormaliz (None, 4, 4, 1024)        4096      \n",
      "_________________________________________________________________\n",
      "conv_pw_13_relu (ReLU)       (None, 4, 4, 1024)        0         \n",
      "_________________________________________________________________\n",
      "global_average_pooling2d_18  (None, 1024)              0         \n",
      "_________________________________________________________________\n",
      "reshape_1 (Reshape)          (None, 1, 1, 1024)        0         \n",
      "_________________________________________________________________\n",
      "dropout (Dropout)            (None, 1, 1, 1024)        0         \n",
      "_________________________________________________________________\n",
      "conv_preds (Conv2D)          (None, 1, 1, 340)         348500    \n",
      "_________________________________________________________________\n",
      "act_softmax (Activation)     (None, 1, 1, 340)         0         \n",
      "_________________________________________________________________\n",
      "reshape_2 (Reshape)          (None, 340)               0         \n",
      "=================================================================\n",
      "Total params: 3,576,788\n",
      "Trainable params: 3,554,900\n",
      "Non-trainable params: 21,888\n",
      "_________________________________________________________________\n",
      "None\n"
     ]
    }
   ],
   "source": [
    "model = MobileNet(input_shape=(size, size, 1), alpha=1., weights=None, classes=NCATS)\n",
    "#model = NASNetMobile(input_shape=(size, size, 1),  weights=None, classes=NCATS)\n",
    "#model = InceptionResNetV2(input_shape=(size, size, 1),  weights=None, classes=NCATS)\n",
    "#model = ResNet50(input_shape=(size, size, 1),  weights=None, classes=NCATS)\n",
    "model.compile(optimizer=Adam(lr=0.00085), loss='categorical_crossentropy',\n",
    "              metrics=[categorical_crossentropy, categorical_accuracy, top_3_accuracy])\n",
    "print(model.summary())"
   ]
  },
  {
   "cell_type": "code",
   "execution_count": 182,
   "metadata": {
    "_uuid": "f6455bf9555b8381b6a4292098a64a0eb7ff54dc"
   },
   "outputs": [],
   "source": [
    "def draw_cv2(raw_strokes, size=256, lw=6):\n",
    "    img = np.zeros((BASE_SIZE, BASE_SIZE), np.uint8)\n",
    "    for t, stroke in enumerate(raw_strokes):\n",
    "        for i in range(len(stroke[0]) - 1):\n",
    "            #color = 255 - min(t, 10) * 13 \n",
    "            color = 255 \n",
    "            _ = cv2.line(img, (stroke[0][i], stroke[1][i]),\n",
    "                         (stroke[0][i + 1], stroke[1][i + 1]), color, lw)\n",
    "    if size != BASE_SIZE:\n",
    "        return cv2.resize(img, (size, size))\n",
    "    else:\n",
    "        return img\n",
    "\n",
    "def get_input(df, size, lw):\n",
    "    df['drawing'] = df['drawing'].apply(ast.literal_eval)\n",
    "    x = np.zeros((len(df), size, size, 1))\n",
    "    for i, raw_strokes in enumerate(df.drawing.values):\n",
    "        x[i, :, :, 0] = draw_cv2(raw_strokes, size=size, lw=lw)\n",
    "    x = preprocess_input(x).astype(np.float32)\n",
    "    y = keras.utils.to_categorical(df.y, num_classes=NCATS)\n",
    "    return x, y\n",
    "\n",
    "    \n",
    "def image_generator_xd(size, batchsize, ks, lw=6):\n",
    "    partial_get_input = partial(get_input, size = size, lw=lw)\n",
    "    while True:\n",
    "        for k in np.random.permutation(ks):\n",
    "            filename = os.path.join(DP_DIR, 'full_train/train_k{}.csv.gz'.format(k))\n",
    "            for chunk in pd.read_csv(filename, chunksize=batchsize):\n",
    "                yield partial_get_input(chunk)\n",
    "# #             p = Pool(1)\n",
    "#             batches = map(partial_get_input, chunks)\n",
    "#             #batches = Parallel(n_jobs=-1)(delayed(partial_get_input)(chunk) for chunk in chunks)\n",
    "#             for batch in batches:\n",
    "#                 yield batch \n",
    "                \n",
    "def df_to_image_array_xd(df, size, lw=6):\n",
    "    df['drawing'] = df['drawing'].apply(ast.literal_eval)\n",
    "    x = np.zeros((len(df), size, size, 1))\n",
    "    for i, raw_strokes in enumerate(df.drawing.values):\n",
    "        x[i, :, :, 0] = draw_cv2(raw_strokes, size=size, lw=lw)\n",
    "    x = preprocess_input(x).astype(np.float32)\n",
    "    return x\n",
    "\n"
   ]
  },
  {
   "cell_type": "code",
   "execution_count": 172,
   "metadata": {
    "_uuid": "98ff512e1a1b5e86e86d9eef4127525bedf3b9e1"
   },
   "outputs": [
    {
     "name": "stdout",
     "output_type": "stream",
     "text": [
      "(30000, 128, 128, 1) (30000, 340)\n",
      "Validation array memory 1.83 GB\n"
     ]
    }
   ],
   "source": [
    "valid_df = pd.read_csv(os.path.join(DP_DIR, 'train_k{}.csv.gz'.format(NCSVS - 1)), nrows=30000)\n",
    "x_valid = df_to_image_array_xd(valid_df, size)\n",
    "y_valid = keras.utils.to_categorical(valid_df.y, num_classes=NCATS)\n",
    "print(x_valid.shape, y_valid.shape)\n",
    "print('Validation array memory {:.2f} GB'.format(x_valid.nbytes / 1024.**3 ))"
   ]
  },
  {
   "cell_type": "code",
   "execution_count": null,
   "metadata": {},
   "outputs": [],
   "source": [
    "#model.load_weights(\"model\")"
   ]
  },
  {
   "cell_type": "code",
   "execution_count": 187,
   "metadata": {
    "_uuid": "d80ad7f4d378ea7f30479221d604eeeed559cae4"
   },
   "outputs": [],
   "source": [
    "train_datagen = image_generator_xd(size=size, batchsize=batchsize, ks=range(NCSVS - 1))"
   ]
  },
  {
   "cell_type": "code",
   "execution_count": null,
   "metadata": {},
   "outputs": [],
   "source": [
    "x, y = next(train_datagen)\n",
    "n = 8\n",
    "fig, axs = plt.subplots(nrows=n, ncols=n, sharex=True, sharey=True, figsize=(12, 12))\n",
    "for i in range(n**2):\n",
    "    ax = axs[i // n, i % n]\n",
    "    (-x[i]+1)/2\n",
    "    ax.imshow((-x[i, :, :, 0] + 1)/2, cmap=plt.cm.gray)\n",
    "    ax.axis('off')\n",
    "plt.tight_layout()\n",
    "fig.savefig('gs.png', dpi=300)\n",
    "plt.show();"
   ]
  },
  {
   "cell_type": "code",
   "execution_count": 189,
   "metadata": {},
   "outputs": [],
   "source": [
    "callbacks = [\n",
    "    ModelCheckpoint(filepath='model', verbose=1, save_best_only=True),\n",
    "    ReduceLROnPlateau(monitor='val_loss', factor=0.2,\n",
    "                              patience=5, min_lr=0.001)\n",
    "]"
   ]
  },
  {
   "cell_type": "code",
   "execution_count": null,
   "metadata": {
    "_uuid": "da72d70fc1781e80427d45a80c07b3571dda0b36",
    "scrolled": true
   },
   "outputs": [
    {
     "name": "stdout",
     "output_type": "stream",
     "text": [
      "Epoch 1/100\n",
      "7811/7812 [============================>.] - ETA: 0s - loss: 1.0865 - categorical_crossentropy: 1.0865 - categorical_accuracy: 0.7261 - top_3_accuracy: 0.8815\n",
      "Epoch 00001: val_loss did not improve from 1.11682\n",
      "7812/7812 [==============================] - 735s 94ms/step - loss: 1.0865 - categorical_crossentropy: 1.0865 - categorical_accuracy: 0.7261 - top_3_accuracy: 0.8815 - val_loss: 1.3856 - val_categorical_crossentropy: 1.3856 - val_categorical_accuracy: 0.6624 - val_top_3_accuracy: 0.8310\n",
      "Epoch 2/100\n",
      "7811/7812 [============================>.] - ETA: 0s - loss: 1.0615 - categorical_crossentropy: 1.0615 - categorical_accuracy: 0.7324 - top_3_accuracy: 0.8854\n",
      "Epoch 00002: val_loss did not improve from 1.11682\n",
      "7812/7812 [==============================] - 742s 95ms/step - loss: 1.0615 - categorical_crossentropy: 1.0615 - categorical_accuracy: 0.7324 - top_3_accuracy: 0.8854 - val_loss: 1.3951 - val_categorical_crossentropy: 1.3951 - val_categorical_accuracy: 0.6595 - val_top_3_accuracy: 0.8310\n",
      "Epoch 3/100\n",
      "7811/7812 [============================>.] - ETA: 0s - loss: 1.0379 - categorical_crossentropy: 1.0379 - categorical_accuracy: 0.7368 - top_3_accuracy: 0.8886\n",
      "Epoch 00003: val_loss did not improve from 1.11682\n",
      "7812/7812 [==============================] - 742s 95ms/step - loss: 1.0379 - categorical_crossentropy: 1.0379 - categorical_accuracy: 0.7368 - top_3_accuracy: 0.8886 - val_loss: 1.3280 - val_categorical_crossentropy: 1.3280 - val_categorical_accuracy: 0.6758 - val_top_3_accuracy: 0.8406\n",
      "Epoch 4/100\n",
      "7811/7812 [============================>.] - ETA: 0s - loss: 1.0193 - categorical_crossentropy: 1.0193 - categorical_accuracy: 0.7418 - top_3_accuracy: 0.8916\n",
      "Epoch 00004: val_loss did not improve from 1.11682\n",
      "7812/7812 [==============================] - 734s 94ms/step - loss: 1.0194 - categorical_crossentropy: 1.0194 - categorical_accuracy: 0.7418 - top_3_accuracy: 0.8916 - val_loss: 1.4431 - val_categorical_crossentropy: 1.4431 - val_categorical_accuracy: 0.6546 - val_top_3_accuracy: 0.8182\n",
      "Epoch 5/100\n",
      "7811/7812 [============================>.] - ETA: 0s - loss: 1.0077 - categorical_crossentropy: 1.0077 - categorical_accuracy: 0.7451 - top_3_accuracy: 0.8929\n",
      "Epoch 00005: val_loss did not improve from 1.11682\n",
      "7812/7812 [==============================] - 734s 94ms/step - loss: 1.0077 - categorical_crossentropy: 1.0077 - categorical_accuracy: 0.7451 - top_3_accuracy: 0.8929 - val_loss: 1.3964 - val_categorical_crossentropy: 1.3964 - val_categorical_accuracy: 0.6583 - val_top_3_accuracy: 0.8272\n",
      "Epoch 6/100\n",
      "7811/7812 [============================>.] - ETA: 0s - loss: 0.9875 - categorical_crossentropy: 0.9875 - categorical_accuracy: 0.7491 - top_3_accuracy: 0.8953\n",
      "Epoch 00006: val_loss did not improve from 1.11682\n",
      "7812/7812 [==============================] - 738s 95ms/step - loss: 0.9874 - categorical_crossentropy: 0.9874 - categorical_accuracy: 0.7491 - top_3_accuracy: 0.8953 - val_loss: 1.5410 - val_categorical_crossentropy: 1.5410 - val_categorical_accuracy: 0.6319 - val_top_3_accuracy: 0.8006\n",
      "Epoch 7/100\n",
      "7811/7812 [============================>.] - ETA: 0s - loss: 0.9818 - categorical_crossentropy: 0.9818 - categorical_accuracy: 0.7514 - top_3_accuracy: 0.8965\n",
      "Epoch 00007: val_loss did not improve from 1.11682\n",
      "7812/7812 [==============================] - 732s 94ms/step - loss: 0.9818 - categorical_crossentropy: 0.9818 - categorical_accuracy: 0.7514 - top_3_accuracy: 0.8965 - val_loss: 1.5383 - val_categorical_crossentropy: 1.5383 - val_categorical_accuracy: 0.6347 - val_top_3_accuracy: 0.8020\n",
      "Epoch 8/100\n",
      "7811/7812 [============================>.] - ETA: 0s - loss: 0.9685 - categorical_crossentropy: 0.9685 - categorical_accuracy: 0.7543 - top_3_accuracy: 0.8987\n",
      "Epoch 00008: val_loss did not improve from 1.11682\n",
      "7812/7812 [==============================] - 734s 94ms/step - loss: 0.9685 - categorical_crossentropy: 0.9685 - categorical_accuracy: 0.7543 - top_3_accuracy: 0.8987 - val_loss: 1.7823 - val_categorical_crossentropy: 1.7823 - val_categorical_accuracy: 0.5839 - val_top_3_accuracy: 0.7584\n",
      "Epoch 9/100\n",
      "7811/7812 [============================>.] - ETA: 0s - loss: 0.9557 - categorical_crossentropy: 0.9557 - categorical_accuracy: 0.7576 - top_3_accuracy: 0.8997\n",
      "Epoch 00009: val_loss did not improve from 1.11682\n",
      "7812/7812 [==============================] - 747s 96ms/step - loss: 0.9557 - categorical_crossentropy: 0.9557 - categorical_accuracy: 0.7575 - top_3_accuracy: 0.8997 - val_loss: 1.5912 - val_categorical_crossentropy: 1.5912 - val_categorical_accuracy: 0.6253 - val_top_3_accuracy: 0.7976\n",
      "Epoch 10/100\n",
      "7811/7812 [============================>.] - ETA: 0s - loss: 0.9525 - categorical_crossentropy: 0.9525 - categorical_accuracy: 0.7582 - top_3_accuracy: 0.9002\n",
      "Epoch 00010: val_loss did not improve from 1.11682\n",
      "7812/7812 [==============================] - 742s 95ms/step - loss: 0.9525 - categorical_crossentropy: 0.9525 - categorical_accuracy: 0.7582 - top_3_accuracy: 0.9002 - val_loss: 1.3550 - val_categorical_crossentropy: 1.3550 - val_categorical_accuracy: 0.6697 - val_top_3_accuracy: 0.8340\n",
      "Epoch 11/100\n",
      " 313/7812 [>.............................] - ETA: 11:58 - loss: 0.9453 - categorical_crossentropy: 0.9453 - categorical_accuracy: 0.7603 - top_3_accuracy: 0.9058"
     ]
    }
   ],
   "source": [
    "hists = []\n",
    "hist = model.fit_generator(\n",
    "    train_datagen, steps_per_epoch=STEPS, epochs=EPOCHS, verbose=1,\n",
    "    validation_data=(x_valid, y_valid),\n",
    "    callbacks = callbacks,\n",
    "    use_multiprocessing=True\n",
    ")\n",
    "hists.append(hist)"
   ]
  },
  {
   "cell_type": "code",
   "execution_count": null,
   "metadata": {
    "_kg_hide-input": true,
    "_kg_hide-output": true,
    "_uuid": "4a3a0cfef0d984d5b02872617e0eb2ad8a791964"
   },
   "outputs": [
    {
     "name": "stdout",
     "output_type": "stream",
     "text": [
      "Epoch 1/100\n",
      "7811/7812 [============================>.] - ETA: 0s - loss: 0.8314 - categorical_crossentropy: 0.8314 - categorical_accuracy: 0.7865 - top_3_accuracy: 0.9167\n",
      "Epoch 00001: val_loss improved from inf to 1.27269, saving model to model\n",
      "7812/7812 [==============================] - 750s 96ms/step - loss: 0.8314 - categorical_crossentropy: 0.8314 - categorical_accuracy: 0.7865 - top_3_accuracy: 0.9167 - val_loss: 1.2727 - val_categorical_crossentropy: 1.2727 - val_categorical_accuracy: 0.6885 - val_top_3_accuracy: 0.8436\n",
      "Epoch 2/100\n",
      "7811/7812 [============================>.] - ETA: 0s - loss: 0.8321 - categorical_crossentropy: 0.8321 - categorical_accuracy: 0.7866 - top_3_accuracy: 0.9169\n",
      "Epoch 00002: val_loss did not improve from 1.27269\n",
      "7812/7812 [==============================] - 666s 85ms/step - loss: 0.8321 - categorical_crossentropy: 0.8321 - categorical_accuracy: 0.7866 - top_3_accuracy: 0.9169 - val_loss: 1.4840 - val_categorical_crossentropy: 1.4840 - val_categorical_accuracy: 0.6424 - val_top_3_accuracy: 0.8099\n",
      "Epoch 3/100\n",
      "7811/7812 [============================>.] - ETA: 0s - loss: 0.8262 - categorical_crossentropy: 0.8262 - categorical_accuracy: 0.7879 - top_3_accuracy: 0.9173\n",
      "Epoch 00003: val_loss did not improve from 1.27269\n",
      "7812/7812 [==============================] - 676s 87ms/step - loss: 0.8262 - categorical_crossentropy: 0.8262 - categorical_accuracy: 0.7879 - top_3_accuracy: 0.9173 - val_loss: 1.2803 - val_categorical_crossentropy: 1.2803 - val_categorical_accuracy: 0.6813 - val_top_3_accuracy: 0.8422\n",
      "Epoch 4/100\n",
      "7811/7812 [============================>.] - ETA: 0s - loss: 0.8265 - categorical_crossentropy: 0.8265 - categorical_accuracy: 0.7880 - top_3_accuracy: 0.9172\n",
      "Epoch 00004: val_loss improved from 1.27269 to 1.26222, saving model to model\n",
      "7812/7812 [==============================] - 673s 86ms/step - loss: 0.8266 - categorical_crossentropy: 0.8266 - categorical_accuracy: 0.7880 - top_3_accuracy: 0.9172 - val_loss: 1.2622 - val_categorical_crossentropy: 1.2622 - val_categorical_accuracy: 0.6870 - val_top_3_accuracy: 0.8464\n",
      "Epoch 5/100\n",
      "7811/7812 [============================>.] - ETA: 0s - loss: 0.8300 - categorical_crossentropy: 0.8300 - categorical_accuracy: 0.7872 - top_3_accuracy: 0.9168\n",
      "Epoch 00005: val_loss did not improve from 1.26222\n",
      "7812/7812 [==============================] - 671s 86ms/step - loss: 0.8301 - categorical_crossentropy: 0.8301 - categorical_accuracy: 0.7872 - top_3_accuracy: 0.9168 - val_loss: 1.3871 - val_categorical_crossentropy: 1.3871 - val_categorical_accuracy: 0.6602 - val_top_3_accuracy: 0.8239\n",
      "Epoch 6/100\n",
      "7811/7812 [============================>.] - ETA: 0s - loss: 0.8215 - categorical_crossentropy: 0.8215 - categorical_accuracy: 0.7894 - top_3_accuracy: 0.9181\n",
      "Epoch 00006: val_loss did not improve from 1.26222\n",
      "7812/7812 [==============================] - 663s 85ms/step - loss: 0.8215 - categorical_crossentropy: 0.8215 - categorical_accuracy: 0.7895 - top_3_accuracy: 0.9181 - val_loss: 1.3452 - val_categorical_crossentropy: 1.3452 - val_categorical_accuracy: 0.6674 - val_top_3_accuracy: 0.8306\n",
      "Epoch 7/100\n",
      "7811/7812 [============================>.] - ETA: 0s - loss: 0.8254 - categorical_crossentropy: 0.8254 - categorical_accuracy: 0.7889 - top_3_accuracy: 0.9177\n",
      "Epoch 00007: val_loss improved from 1.26222 to 1.19315, saving model to model\n",
      "7812/7812 [==============================] - 662s 85ms/step - loss: 0.8254 - categorical_crossentropy: 0.8254 - categorical_accuracy: 0.7889 - top_3_accuracy: 0.9178 - val_loss: 1.1931 - val_categorical_crossentropy: 1.1931 - val_categorical_accuracy: 0.7030 - val_top_3_accuracy: 0.8579\n",
      "Epoch 8/100\n",
      "7811/7812 [============================>.] - ETA: 0s - loss: 0.8217 - categorical_crossentropy: 0.8217 - categorical_accuracy: 0.7891 - top_3_accuracy: 0.9180\n",
      "Epoch 00008: val_loss improved from 1.19315 to 1.16709, saving model to model\n",
      "7812/7812 [==============================] - 657s 84ms/step - loss: 0.8217 - categorical_crossentropy: 0.8217 - categorical_accuracy: 0.7891 - top_3_accuracy: 0.9180 - val_loss: 1.1671 - val_categorical_crossentropy: 1.1671 - val_categorical_accuracy: 0.7079 - val_top_3_accuracy: 0.8637\n",
      "Epoch 9/100\n",
      " 129/7812 [..............................] - ETA: 10:33 - loss: 0.8340 - categorical_crossentropy: 0.8340 - categorical_accuracy: 0.7852 - top_3_accuracy: 0.9153"
     ]
    }
   ],
   "source": [
    "hist = model.fit_generator(\n",
    "    train_datagen, steps_per_epoch=STEPS, epochs=EPOCHS, verbose=1,\n",
    "    validation_data=(x_valid, y_valid),\n",
    "    callbacks = callbacks\n",
    ")\n",
    "hists.append(hist)"
   ]
  },
  {
   "cell_type": "code",
   "execution_count": null,
   "metadata": {},
   "outputs": [],
   "source": [
    "hist = model.fit_generator(\n",
    "    train_datagen, steps_per_epoch=STEPS, epochs=EPOCHS, verbose=1,\n",
    "    validation_data=(x_valid, y_valid),\n",
    "    callbacks = callbacks\n",
    ")\n",
    "hists.append(hist)"
   ]
  },
  {
   "cell_type": "code",
   "execution_count": null,
   "metadata": {
    "_uuid": "05767778d356bc63b7cded355159fd4082eee1a5"
   },
   "outputs": [],
   "source": [
    "hist_df = pd.concat([pd.DataFrame(hist.history) for hist in hists], sort=True)\n",
    "hist_df.index = np.arange(1, len(hist_df)+1)\n",
    "fig, axs = plt.subplots(nrows=2, sharex=True, figsize=(16, 10))\n",
    "axs[0].plot(hist_df.val_categorical_accuracy, lw=5, label='Validation Accuracy')\n",
    "axs[0].plot(hist_df.categorical_accuracy, lw=5, label='Training Accuracy')\n",
    "axs[0].set_ylabel('Accuracy')\n",
    "axs[0].set_xlabel('Epoch')\n",
    "axs[0].grid()\n",
    "axs[0].legend(loc=0)\n",
    "axs[1].plot(hist_df.val_categorical_crossentropy, lw=5, label='Validation MLogLoss')\n",
    "axs[1].plot(hist_df.categorical_crossentropy, lw=5, label='Training MLogLoss')\n",
    "axs[1].set_ylabel('MLogLoss')\n",
    "axs[1].set_xlabel('Epoch')\n",
    "axs[1].grid()\n",
    "axs[1].legend(loc=0)\n",
    "fig.savefig('hist.png', dpi=300)\n",
    "plt.show();"
   ]
  },
  {
   "cell_type": "code",
   "execution_count": 19,
   "metadata": {
    "_uuid": "8c1927f22d3c45cba0bdee7d6f4b6c858d82d614"
   },
   "outputs": [
    {
     "name": "stdout",
     "output_type": "stream",
     "text": [
      "3000/3000 [==============================] - 6s 2ms/step\n",
      "Map3: 0.827\n"
     ]
    }
   ],
   "source": [
    "valid_predictions = model.predict(x_valid, batch_size=128, verbose=1)\n",
    "map3 = mapk(valid_df[['y']].values, preds2catids(valid_predictions).values)\n",
    "print('Map3: {:.3f}'.format(map3))"
   ]
  },
  {
   "cell_type": "code",
   "execution_count": 25,
   "metadata": {},
   "outputs": [],
   "source": [
    "scores = [apk(actual, predicted) for actual,predicted in zip(valid_df[['y']].values, preds2catids(valid_predictions).values)]"
   ]
  },
  {
   "cell_type": "code",
   "execution_count": 28,
   "metadata": {},
   "outputs": [],
   "source": [
    "valid_df['scores'] = scores"
   ]
  },
  {
   "cell_type": "code",
   "execution_count": 42,
   "metadata": {},
   "outputs": [
    {
     "data": {
      "text/plain": [
       "True     2225\n",
       "False      69\n",
       "Name: recognized, dtype: int64"
      ]
     },
     "execution_count": 42,
     "metadata": {},
     "output_type": "execute_result"
    }
   ],
   "source": [
    "valid_df[valid_df['scores']==1]['recognized'].value_counts()"
   ]
  },
  {
   "cell_type": "code",
   "execution_count": 50,
   "metadata": {},
   "outputs": [],
   "source": [
    "valid_df['images'] = list(x_valid)"
   ]
  },
  {
   "cell_type": "code",
   "execution_count": 64,
   "metadata": {},
   "outputs": [
    {
     "data": {
      "text/html": [
       "<div>\n",
       "<style scoped>\n",
       "    .dataframe tbody tr th:only-of-type {\n",
       "        vertical-align: middle;\n",
       "    }\n",
       "\n",
       "    .dataframe tbody tr th {\n",
       "        vertical-align: top;\n",
       "    }\n",
       "\n",
       "    .dataframe thead th {\n",
       "        text-align: right;\n",
       "    }\n",
       "</style>\n",
       "<table border=\"1\" class=\"dataframe\">\n",
       "  <thead>\n",
       "    <tr style=\"text-align: right;\">\n",
       "      <th></th>\n",
       "      <th>countrycode</th>\n",
       "      <th>drawing</th>\n",
       "      <th>recognized</th>\n",
       "      <th>timestamp</th>\n",
       "      <th>word</th>\n",
       "      <th>y</th>\n",
       "      <th>cv</th>\n",
       "      <th>images</th>\n",
       "    </tr>\n",
       "  </thead>\n",
       "  <tbody>\n",
       "    <tr>\n",
       "      <th>0</th>\n",
       "      <td>US</td>\n",
       "      <td>[[[8, 1, 9], [0, 71, 1]], [[7, 243], [35, 46]]...</td>\n",
       "      <td>True</td>\n",
       "      <td>2017-03-19 20:07:44.354570</td>\n",
       "      <td>dumbbell</td>\n",
       "      <td>99</td>\n",
       "      <td>99</td>\n",
       "      <td>[[[-1.0], [-1.0], [-1.0], [-1.0], [-1.0], [0.9...</td>\n",
       "    </tr>\n",
       "    <tr>\n",
       "      <th>1</th>\n",
       "      <td>RU</td>\n",
       "      <td>[[[23, 13, 5, 0, 17, 41, 52, 67, 41, 34, 28], ...</td>\n",
       "      <td>True</td>\n",
       "      <td>2017-01-07 09:14:04.648210</td>\n",
       "      <td>rhinoceros</td>\n",
       "      <td>239</td>\n",
       "      <td>99</td>\n",
       "      <td>[[[0.9921875], [0.9921875], [0.9921875], [0.99...</td>\n",
       "    </tr>\n",
       "    <tr>\n",
       "      <th>2</th>\n",
       "      <td>IN</td>\n",
       "      <td>[[[75, 43], [112, 250]], [[116, 115, 125], [11...</td>\n",
       "      <td>True</td>\n",
       "      <td>2017-03-12 11:00:08.126240</td>\n",
       "      <td>windmill</td>\n",
       "      <td>333</td>\n",
       "      <td>99</td>\n",
       "      <td>[[[-1.0], [-1.0], [-1.0], [-1.0], [-1.0], [-1....</td>\n",
       "    </tr>\n",
       "    <tr>\n",
       "      <th>3</th>\n",
       "      <td>US</td>\n",
       "      <td>[[[64, 59, 68, 77, 79, 77, 71], [113, 120, 130...</td>\n",
       "      <td>True</td>\n",
       "      <td>2017-04-01 23:06:59.605080</td>\n",
       "      <td>scorpion</td>\n",
       "      <td>249</td>\n",
       "      <td>99</td>\n",
       "      <td>[[[-1.0], [-1.0], [-1.0], [-1.0], [-1.0], [-1....</td>\n",
       "    </tr>\n",
       "    <tr>\n",
       "      <th>4</th>\n",
       "      <td>US</td>\n",
       "      <td>[[[0, 2, 22, 31, 44, 49, 54, 64, 138, 143, 133...</td>\n",
       "      <td>True</td>\n",
       "      <td>2017-01-23 17:37:22.441430</td>\n",
       "      <td>dog</td>\n",
       "      <td>90</td>\n",
       "      <td>99</td>\n",
       "      <td>[[[-1.0], [-1.0], [-1.0], [-1.0], [-1.0], [-1....</td>\n",
       "    </tr>\n",
       "  </tbody>\n",
       "</table>\n",
       "</div>"
      ],
      "text/plain": [
       "  countrycode                                            drawing  recognized  \\\n",
       "0          US  [[[8, 1, 9], [0, 71, 1]], [[7, 243], [35, 46]]...        True   \n",
       "1          RU  [[[23, 13, 5, 0, 17, 41, 52, 67, 41, 34, 28], ...        True   \n",
       "2          IN  [[[75, 43], [112, 250]], [[116, 115, 125], [11...        True   \n",
       "3          US  [[[64, 59, 68, 77, 79, 77, 71], [113, 120, 130...        True   \n",
       "4          US  [[[0, 2, 22, 31, 44, 49, 54, 64, 138, 143, 133...        True   \n",
       "\n",
       "                    timestamp        word    y  cv  \\\n",
       "0  2017-03-19 20:07:44.354570    dumbbell   99  99   \n",
       "1  2017-01-07 09:14:04.648210  rhinoceros  239  99   \n",
       "2  2017-03-12 11:00:08.126240    windmill  333  99   \n",
       "3  2017-04-01 23:06:59.605080    scorpion  249  99   \n",
       "4  2017-01-23 17:37:22.441430         dog   90  99   \n",
       "\n",
       "                                              images  \n",
       "0  [[[-1.0], [-1.0], [-1.0], [-1.0], [-1.0], [0.9...  \n",
       "1  [[[0.9921875], [0.9921875], [0.9921875], [0.99...  \n",
       "2  [[[-1.0], [-1.0], [-1.0], [-1.0], [-1.0], [-1....  \n",
       "3  [[[-1.0], [-1.0], [-1.0], [-1.0], [-1.0], [-1....  \n",
       "4  [[[-1.0], [-1.0], [-1.0], [-1.0], [-1.0], [-1....  "
      ]
     },
     "execution_count": 64,
     "metadata": {},
     "output_type": "execute_result"
    }
   ],
   "source": [
    "valid_df.head()\n",
    "\n"
   ]
  },
  {
   "cell_type": "code",
   "execution_count": 76,
   "metadata": {},
   "outputs": [],
   "source": [
    "img = valid_df.iloc[2]['images']"
   ]
  },
  {
   "cell_type": "code",
   "execution_count": 77,
   "metadata": {},
   "outputs": [
    {
     "data": {
      "text/plain": [
       "array([[[-1.],\n",
       "        [-1.],\n",
       "        [-1.],\n",
       "        ...,\n",
       "        [-1.],\n",
       "        [-1.],\n",
       "        [-1.]],\n",
       "\n",
       "       [[-1.],\n",
       "        [-1.],\n",
       "        [-1.],\n",
       "        ...,\n",
       "        [-1.],\n",
       "        [-1.],\n",
       "        [-1.]],\n",
       "\n",
       "       [[-1.],\n",
       "        [-1.],\n",
       "        [-1.],\n",
       "        ...,\n",
       "        [-1.],\n",
       "        [-1.],\n",
       "        [-1.]],\n",
       "\n",
       "       ...,\n",
       "\n",
       "       [[-1.],\n",
       "        [-1.],\n",
       "        [-1.],\n",
       "        ...,\n",
       "        [-1.],\n",
       "        [-1.],\n",
       "        [-1.]],\n",
       "\n",
       "       [[-1.],\n",
       "        [-1.],\n",
       "        [-1.],\n",
       "        ...,\n",
       "        [-1.],\n",
       "        [-1.],\n",
       "        [-1.]],\n",
       "\n",
       "       [[-1.],\n",
       "        [-1.],\n",
       "        [-1.],\n",
       "        ...,\n",
       "        [-1.],\n",
       "        [-1.],\n",
       "        [-1.]]], dtype=float32)"
      ]
     },
     "execution_count": 77,
     "metadata": {},
     "output_type": "execute_result"
    }
   ],
   "source": [
    "img"
   ]
  },
  {
   "cell_type": "code",
   "execution_count": 71,
   "metadata": {},
   "outputs": [
    {
     "data": {
      "text/plain": [
       "<matplotlib.image.AxesImage at 0x7f68907de5c0>"
      ]
     },
     "execution_count": 71,
     "metadata": {},
     "output_type": "execute_result"
    },
    {
     "data": {
      "image/png": "[encoded data removed]",
      "text/plain": [
       "<Figure size 1152x720 with 1 Axes>"
      ]
     },
     "metadata": {},
     "output_type": "display_data"
    }
   ],
   "source": [
    "plt.imshow(img)"
   ]
  },
  {
   "cell_type": "code",
   "execution_count": null,
   "metadata": {
    "_uuid": "a7d14348150baf753e90cf2719b9f31dd564f6a2"
   },
   "outputs": [],
   "source": [
    "test_predictions = [] \n",
    "for chunk in pd.read_csv(os.path.join(INPUT_DIR, 'test_simplified.csv'), chunksize=1024):\n",
    "    x_test = df_to_image_array_xd(chunk, size)\n",
    "    predictions = list(model.predict(x_test, batch_size=128, verbose=1))\n",
    "    test_predictions.extend(predictions)\n"
   ]
  },
  {
   "cell_type": "code",
   "execution_count": null,
   "metadata": {
    "_uuid": "608b02f5c7909ae62becbe5c931b7264171296e8"
   },
   "outputs": [],
   "source": [
    "\n",
    "top3 = preds2catids(np.array(test_predictions))\n",
    "top3.head()\n",
    "top3.shape\n",
    "\n",
    "cats = list_all_categories()\n",
    "id2cat = {k: cat.replace(' ', '_') for k, cat in enumerate(cats)}\n",
    "top3cats = top3.replace(id2cat)\n",
    "top3cats.head()\n",
    "top3cats.shape"
   ]
  },
  {
   "cell_type": "code",
   "execution_count": null,
   "metadata": {
    "_uuid": "52e0f9c44f2a9a38fd1550ffb9c07fb7ea22b17d"
   },
   "outputs": [],
   "source": [
    "test['word'] = top3cats['a'] + ' ' + top3cats['b'] + ' ' + top3cats['c']\n",
    "submission = test[['key_id', 'word']]\n",
    "submission.to_csv('gs_mn_submission_{2}.csv', index=False)\n",
    "submission.head()\n",
    "submission.shape"
   ]
  },
  {
   "cell_type": "code",
   "execution_count": null,
   "metadata": {
    "_uuid": "b418f4c06c4e4453aa1b5ab16dde344eb8b735c5"
   },
   "outputs": [],
   "source": [
    "end = dt.datetime.now()\n",
    "print('Latest run {}.\\nTotal time {}s'.format(end, (end - start).seconds))"
   ]
  }
 ],
 "metadata": {
  "kernelspec": {
   "display_name": "Environment (conda_tensorflow_p36)",
   "language": "python",
   "name": "conda_tensorflow_p36"
  }
 },
 "nbformat": 4,
 "nbformat_minor": 1
}
