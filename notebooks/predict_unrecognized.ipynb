{
 "cells": [
  {
   "cell_type": "code",
   "execution_count": 8,
   "metadata": {},
   "outputs": [],
   "source": [
    "import pandas as pd\n",
    "import sklearn\n",
    "import json\n",
    "from sklearn.model_selection import train_test_split\n",
    "from sklearn.ensemble import RandomForestClassifier\n",
    "from collections import Counter"
   ]
  },
  {
   "cell_type": "code",
   "execution_count": 22,
   "metadata": {},
   "outputs": [],
   "source": [
    "import seaborn"
   ]
  },
  {
   "cell_type": "code",
   "execution_count": 10,
   "metadata": {},
   "outputs": [],
   "source": [
    "from matplotlib import pyplot as plt"
   ]
  },
  {
   "cell_type": "code",
   "execution_count": 2,
   "metadata": {},
   "outputs": [],
   "source": [
    "df = pd.read_csv(\"/home/doodle/pedro/data/training_data/train_k27.csv.gz\")"
   ]
  },
  {
   "cell_type": "code",
   "execution_count": 4,
   "metadata": {},
   "outputs": [
    {
     "data": {
      "text/html": [
       "<div>\n",
       "<style scoped>\n",
       "    .dataframe tbody tr th:only-of-type {\n",
       "        vertical-align: middle;\n",
       "    }\n",
       "\n",
       "    .dataframe tbody tr th {\n",
       "        vertical-align: top;\n",
       "    }\n",
       "\n",
       "    .dataframe thead th {\n",
       "        text-align: right;\n",
       "    }\n",
       "</style>\n",
       "<table border=\"1\" class=\"dataframe\">\n",
       "  <thead>\n",
       "    <tr style=\"text-align: right;\">\n",
       "      <th></th>\n",
       "      <th>countrycode</th>\n",
       "      <th>drawing</th>\n",
       "      <th>recognized</th>\n",
       "      <th>timestamp</th>\n",
       "      <th>word</th>\n",
       "      <th>y</th>\n",
       "      <th>cv</th>\n",
       "    </tr>\n",
       "  </thead>\n",
       "  <tbody>\n",
       "    <tr>\n",
       "      <th>0</th>\n",
       "      <td>IT</td>\n",
       "      <td>[[[1, 1, 9, 42, 61, 85, 107, 136, 156, 165, 19...</td>\n",
       "      <td>True</td>\n",
       "      <td>2017-03-08 21:00:51.437010</td>\n",
       "      <td>necklace</td>\n",
       "      <td>194</td>\n",
       "      <td>27</td>\n",
       "    </tr>\n",
       "    <tr>\n",
       "      <th>1</th>\n",
       "      <td>RU</td>\n",
       "      <td>[[[0, 3, 3, 8, 8, 11, 32, 77, 104, 146, 156, 1...</td>\n",
       "      <td>True</td>\n",
       "      <td>2017-03-15 08:33:47.781930</td>\n",
       "      <td>foot</td>\n",
       "      <td>122</td>\n",
       "      <td>27</td>\n",
       "    </tr>\n",
       "    <tr>\n",
       "      <th>2</th>\n",
       "      <td>US</td>\n",
       "      <td>[[[3, 9, 3, 0, 8, 39, 65, 133, 229, 255, 193, ...</td>\n",
       "      <td>True</td>\n",
       "      <td>2017-03-23 12:48:25.292450</td>\n",
       "      <td>piano</td>\n",
       "      <td>216</td>\n",
       "      <td>27</td>\n",
       "    </tr>\n",
       "    <tr>\n",
       "      <th>3</th>\n",
       "      <td>RU</td>\n",
       "      <td>[[[12, 161, 231, 229, 218, 198, 162, 95, 70, 4...</td>\n",
       "      <td>True</td>\n",
       "      <td>2017-03-28 14:38:17.896340</td>\n",
       "      <td>saw</td>\n",
       "      <td>245</td>\n",
       "      <td>27</td>\n",
       "    </tr>\n",
       "    <tr>\n",
       "      <th>4</th>\n",
       "      <td>US</td>\n",
       "      <td>[[[48, 32, 4, 0, 7, 20, 36, 74, 91, 82, 55, 44...</td>\n",
       "      <td>False</td>\n",
       "      <td>2017-03-05 04:06:51.726000</td>\n",
       "      <td>bottlecap</td>\n",
       "      <td>36</td>\n",
       "      <td>27</td>\n",
       "    </tr>\n",
       "  </tbody>\n",
       "</table>\n",
       "</div>"
      ],
      "text/plain": [
       "  countrycode                                            drawing  recognized  \\\n",
       "0          IT  [[[1, 1, 9, 42, 61, 85, 107, 136, 156, 165, 19...        True   \n",
       "1          RU  [[[0, 3, 3, 8, 8, 11, 32, 77, 104, 146, 156, 1...        True   \n",
       "2          US  [[[3, 9, 3, 0, 8, 39, 65, 133, 229, 255, 193, ...        True   \n",
       "3          RU  [[[12, 161, 231, 229, 218, 198, 162, 95, 70, 4...        True   \n",
       "4          US  [[[48, 32, 4, 0, 7, 20, 36, 74, 91, 82, 55, 44...       False   \n",
       "\n",
       "                    timestamp       word    y  cv  \n",
       "0  2017-03-08 21:00:51.437010   necklace  194  27  \n",
       "1  2017-03-15 08:33:47.781930       foot  122  27  \n",
       "2  2017-03-23 12:48:25.292450      piano  216  27  \n",
       "3  2017-03-28 14:38:17.896340        saw  245  27  \n",
       "4  2017-03-05 04:06:51.726000  bottlecap   36  27  "
      ]
     },
     "execution_count": 4,
     "metadata": {},
     "output_type": "execute_result"
    }
   ],
   "source": [
    "df.head()"
   ]
  },
  {
   "cell_type": "code",
   "execution_count": 4,
   "metadata": {},
   "outputs": [],
   "source": [
    "df[\"drawing\"] = df[\"drawing\"].apply(json.loads)"
   ]
  },
  {
   "cell_type": "code",
   "execution_count": 5,
   "metadata": {},
   "outputs": [],
   "source": [
    "df[\"numStrokes\"] = df[\"drawing\"].apply(len)"
   ]
  },
  {
   "cell_type": "code",
   "execution_count": 20,
   "metadata": {},
   "outputs": [],
   "source": [
    "df.countrycode =df.countrycode.astype('category').cat.codes "
   ]
  },
  {
   "cell_type": "code",
   "execution_count": 40,
   "metadata": {},
   "outputs": [],
   "source": [
    "X = df[['numStrokes']].values"
   ]
  },
  {
   "cell_type": "code",
   "execution_count": 41,
   "metadata": {},
   "outputs": [],
   "source": [
    "Y = df[\"recognized\"].apply(int)"
   ]
  },
  {
   "cell_type": "code",
   "execution_count": 42,
   "metadata": {},
   "outputs": [],
   "source": [
    "X_train, X_test, y_train, y_test = train_test_split(X, Y, test_size=0.1, random_state=0)"
   ]
  },
  {
   "cell_type": "code",
   "execution_count": 43,
   "metadata": {},
   "outputs": [],
   "source": [
    "model = RandomForestClassifier(n_estimators=100)"
   ]
  },
  {
   "cell_type": "code",
   "execution_count": 44,
   "metadata": {},
   "outputs": [
    {
     "data": {
      "text/plain": [
       "RandomForestClassifier(bootstrap=True, class_weight=None, criterion='gini',\n",
       "            max_depth=None, max_features='auto', max_leaf_nodes=None,\n",
       "            min_impurity_decrease=0.0, min_impurity_split=None,\n",
       "            min_samples_leaf=1, min_samples_split=2,\n",
       "            min_weight_fraction_leaf=0.0, n_estimators=100, n_jobs=1,\n",
       "            oob_score=False, random_state=None, verbose=0,\n",
       "            warm_start=False)"
      ]
     },
     "execution_count": 44,
     "metadata": {},
     "output_type": "execute_result"
    }
   ],
   "source": [
    "model.fit(X_train, y_train)"
   ]
  },
  {
   "cell_type": "code",
   "execution_count": 45,
   "metadata": {},
   "outputs": [
    {
     "data": {
      "text/plain": [
       "0.9161250075463345"
      ]
     },
     "execution_count": 45,
     "metadata": {},
     "output_type": "execute_result"
    }
   ],
   "source": [
    "model.score(X_test, y_test)"
   ]
  },
  {
   "cell_type": "code",
   "execution_count": 39,
   "metadata": {},
   "outputs": [
    {
     "data": {
      "text/plain": [
       "0.947206489682112"
      ]
     },
     "execution_count": 39,
     "metadata": {},
     "output_type": "execute_result"
    }
   ],
   "source": [
    "model.score(X_train, y_train)"
   ]
  },
  {
   "cell_type": "code",
   "execution_count": 46,
   "metadata": {},
   "outputs": [
    {
     "data": {
      "text/plain": [
       "0.9149591689708326"
      ]
     },
     "execution_count": 46,
     "metadata": {},
     "output_type": "execute_result"
    }
   ],
   "source": [
    "sum(Y)/len(Y)"
   ]
  },
  {
   "cell_type": "code",
   "execution_count": 48,
   "metadata": {},
   "outputs": [],
   "source": [
    "num_misclassified = Counter()"
   ]
  },
  {
   "cell_type": "code",
   "execution_count": 12,
   "metadata": {},
   "outputs": [
    {
     "data": {
      "text/plain": [
       "<matplotlib.collections.PathCollection at 0x7f89fe7b1550>"
      ]
     },
     "execution_count": 12,
     "metadata": {},
     "output_type": "execute_result"
    },
    {
     "data": {
      "image/png": "[encoded data removed]",
      "text/plain": [
       "<Figure size 432x288 with 1 Axes>"
      ]
     },
     "metadata": {},
     "output_type": "display_data"
    }
   ],
   "source": [
    "plt.scatter(df[\"numStrokes\"], df[\"recognized\"].apply(int))"
   ]
  },
  {
   "cell_type": "code",
   "execution_count": 13,
   "metadata": {},
   "outputs": [],
   "source": [
    "strokes_to_counts = Counter()\n",
    "strokes_to_wrong = Counter()\n",
    "for numStroke, isRecognized in zip(df[\"numStrokes\"], df[\"recognized\"].apply(int)):\n",
    "    strokes_to_counts[numStroke] += 1\n",
    "    strokes_to_wrong[numStroke] += isRecognized\n"
   ]
  },
  {
   "cell_type": "code",
   "execution_count": 16,
   "metadata": {},
   "outputs": [],
   "source": [
    "classification_ratios = [strokes_to_wrong[numStroke]/strokes_to_counts[numStroke] for numStroke in sorted(strokes_to_counts.keys())]"
   ]
  },
  {
   "cell_type": "code",
   "execution_count": 24,
   "metadata": {},
   "outputs": [
    {
     "data": {
      "text/plain": [
       "[<matplotlib.lines.Line2D at 0x7f89fc3fd470>]"
      ]
     },
     "execution_count": 24,
     "metadata": {},
     "output_type": "execute_result"
    },
    {
     "data": {
      "image/png": "[encoded data removed]",
      "text/plain": [
       "<Figure size 432x288 with 1 Axes>"
      ]
     },
     "metadata": {},
     "output_type": "display_data"
    }
   ],
   "source": [
    "plt.xlabel(\"Number of Strokes\")\n",
    "plt.ylabel(\"Accuracy\")\n",
    "plt.plot(list(range(len(strokes_to_counts)))[:20], classification_ratios[:20])"
   ]
  },
  {
   "cell_type": "code",
   "execution_count": 25,
   "metadata": {},
   "outputs": [],
   "source": [
    "CATEGORIES =['trumpet',\n",
    " 'cloud',\n",
    " 'airplane',\n",
    " 'light bulb',\n",
    " 'face',\n",
    " 'couch',\n",
    " 'paint can',\n",
    " 'toothbrush',\n",
    " 'saw',\n",
    " 'baseball',\n",
    " 'ice cream',\n",
    " 'squiggle',\n",
    " 'mouth',\n",
    " 'soccer ball',\n",
    " 'spoon',\n",
    " 'matches',\n",
    " 'peas',\n",
    " 'finger',\n",
    " 'duck',\n",
    " 'broccoli',\n",
    " 'flip flops',\n",
    " 'pond',\n",
    " 'cell phone',\n",
    " 'elephant',\n",
    " 'kangaroo',\n",
    " 'bathtub',\n",
    " 'bulldozer',\n",
    " 'paper clip',\n",
    " 'spreadsheet',\n",
    " 'pillow']"
   ]
  },
  {
   "cell_type": "code",
   "execution_count": 29,
   "metadata": {},
   "outputs": [],
   "source": [
    "accuracies = []"
   ]
  },
  {
   "cell_type": "code",
   "execution_count": 30,
   "metadata": {},
   "outputs": [],
   "source": [
    "for cat in CATEGORIES:\n",
    "    file = \"/home/doodle/pedro/data/training_data_grouped/\"+cat+\".csv\"\n",
    "    df = pd.read_csv(file, nrows=1000)\n",
    "    accuracies.append(sum(df[\"recognized\"])/len(df[\"recognized\"]))\n",
    "    "
   ]
  },
  {
   "cell_type": "code",
   "execution_count": 31,
   "metadata": {
    "scrolled": true
   },
   "outputs": [
    {
     "data": {
      "text/plain": [
       "[0.857,\n",
       " 0.976,\n",
       " 0.898,\n",
       " 0.954,\n",
       " 0.913,\n",
       " 0.94,\n",
       " 0.896,\n",
       " 0.947,\n",
       " 0.938,\n",
       " 0.937,\n",
       " 0.972,\n",
       " 0.922,\n",
       " 0.948,\n",
       " 0.948,\n",
       " 0.967,\n",
       " 0.844,\n",
       " 0.873,\n",
       " 0.937,\n",
       " 0.852,\n",
       " 0.96,\n",
       " 0.921,\n",
       " 0.917,\n",
       " 0.934,\n",
       " 0.849,\n",
       " 0.88,\n",
       " 0.862,\n",
       " 0.876,\n",
       " 0.949,\n",
       " 0.872,\n",
       " 0.937]"
      ]
     },
     "execution_count": 31,
     "metadata": {},
     "output_type": "execute_result"
    }
   ],
   "source": [
    "accuracies"
   ]
  },
  {
   "cell_type": "code",
   "execution_count": 34,
   "metadata": {},
   "outputs": [
    {
     "data": {
      "text/plain": [
       "15"
      ]
     },
     "execution_count": 34,
     "metadata": {},
     "output_type": "execute_result"
    }
   ],
   "source": [
    "accuracies.index(0.844)"
   ]
  },
  {
   "cell_type": "code",
   "execution_count": 36,
   "metadata": {},
   "outputs": [
    {
     "data": {
      "text/plain": [
       "'trumpet'"
      ]
     },
     "execution_count": 36,
     "metadata": {},
     "output_type": "execute_result"
    }
   ],
   "source": [
    "CATEGORIES[0]"
   ]
  },
  {
   "cell_type": "code",
   "execution_count": null,
   "metadata": {},
   "outputs": [],
   "source": []
  }
 ],
 "metadata": {
  "kernelspec": {
   "display_name": "Python 3",
   "language": "python",
   "name": "python3"
  },
  "language_info": {
   "codemirror_mode": {
    "name": "ipython",
    "version": 3
   },
   "file_extension": ".py",
   "mimetype": "text/x-python",
   "name": "python",
   "nbconvert_exporter": "python",
   "pygments_lexer": "ipython3",
   "version": "3.5.3"
  }
 },
 "nbformat": 4,
 "nbformat_minor": 2
}
