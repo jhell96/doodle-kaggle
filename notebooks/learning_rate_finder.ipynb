{
 "cells": [
  {
   "cell_type": "code",
   "execution_count": 25,
   "metadata": {},
   "outputs": [],
   "source": [
    "import numpy as np\n",
    "import matplotlib.pyplot as plt"
   ]
  },
  {
   "cell_type": "code",
   "execution_count": 26,
   "metadata": {},
   "outputs": [],
   "source": [
    "path = \"/home/ubuntu/doodle-kaggle/code/learning_rate_losses/\"\n"
   ]
  },
  {
   "cell_type": "code",
   "execution_count": 28,
   "metadata": {},
   "outputs": [],
   "source": [
    "losses = np.load(path+\"losses.npy\")"
   ]
  },
  {
   "cell_type": "code",
   "execution_count": 29,
   "metadata": {},
   "outputs": [
    {
     "data": {
      "text/plain": [
       "array([2030.01213074, 1027.81671466,  690.98621141,  523.16259291,\n",
       "        423.25564598,  355.7010724 ,  308.94984204,  271.69476506,\n",
       "        243.90258596,  221.56786934,  203.34488144,  188.65194742,\n",
       "        175.39810327,  164.7737218 ,  154.90489366,  147.0677961 ,\n",
       "        139.42332091,  132.94344198,  126.74368691,  122.00450735,\n",
       "        116.97333885,  112.51911692,  109.09123   ,  105.32975939,\n",
       "        102.01574929,   98.67821653,   96.17476358,   93.41506244,\n",
       "         91.14535052,   88.93112201,   86.68529508,   84.74144035,\n",
       "         82.88000531,   81.29510133,   79.63698052,   77.87792318,\n",
       "         76.55553764,   75.25824518,   74.02268769,   72.62767019,\n",
       "         71.33491068,   70.32857325,   69.28046249,   68.26920927,\n",
       "         67.31329057,   66.59027122,   65.53174908,   64.63670855,\n",
       "         63.98095213,   62.95711212,   62.2669823 ,   61.73715856,\n",
       "         61.07572333,   60.28971681,   59.62524771,   59.03393019,\n",
       "         58.52588623,   57.91445249,   57.40063851,   56.91324613,\n",
       "         56.40495572,   55.8787405 ,   55.39513386,   54.96485893,\n",
       "         54.46193083,   54.07999528,   53.78064845,   53.28852964,\n",
       "         53.04331845,   52.55596526,   52.25728504,   51.93368144,\n",
       "         51.37028065,   51.15217313,   50.9161637 ,   50.54529688,\n",
       "         50.31129511,   49.86056971,   49.6063262 ,   49.43497342,\n",
       "         49.23043099,   48.82610339,   48.46698165,   48.21447148,\n",
       "         48.12915749,   47.8078634 ,   47.65073724,   47.41150196,\n",
       "         47.20678287,   47.00635679,   46.65882883,   46.52388959,\n",
       "         46.38991746,   46.19406091,   45.8066861 ,   45.93817432,\n",
       "         45.47988549,   45.33414477,   45.19799509,   45.0138137 ,\n",
       "         44.80128396,   44.562646  ,   44.36737886,   44.22203285,\n",
       "         44.14923024,   43.9498981 ,   43.86431462,   43.66190764,\n",
       "         43.32277819,   43.30184995,   43.00346036,   43.03809586,\n",
       "         42.74703832,   42.68199654,   42.59606101,   42.30373996,\n",
       "         42.09477487,   42.07563846,   41.95982664,   41.78980094,\n",
       "         41.74469811,   41.47764309,   41.24989287,   41.28798902,\n",
       "         41.01115388,   40.92328362,   40.53518176,   40.83900104,\n",
       "         40.54632339,   40.37679363,   40.31311261,   40.1506234 ,\n",
       "         40.08705982,   39.91392391,   39.73962613,   39.44367829,\n",
       "         39.42642676,   39.30982732,   39.10639771,   39.22359107,\n",
       "         39.03660711,   38.82062839,   38.89816476,   38.70541013,\n",
       "         38.22716131,   38.17660795,   37.58723209,   38.02838813,\n",
       "         37.85838835,   37.74147573,   37.41528607,   37.34437595,\n",
       "         36.82103121,   36.90285391,   36.64608167,   36.80301214,\n",
       "         36.42378894,   36.17754277,   36.70031569,   36.23904012,\n",
       "         35.69415485,   35.73368907,   35.52266854,   35.44939481,\n",
       "         35.17844303,   35.01742722,   34.89474471,   35.01589119,\n",
       "         35.0547666 ,   34.8284101 ,   34.04654624,   34.21166961,\n",
       "         34.24123701,   33.67604692,   33.20005473,   33.50420121,\n",
       "         33.2243096 ,   32.73773292,   32.57693815,   32.53589045,\n",
       "         32.17029257,   31.9891086 ,   31.7468325 ,   31.7983699 ,\n",
       "         31.33123065,   31.21412645,   30.51998379,   30.76264498,\n",
       "         30.20711008,   29.81695549,   29.69740234,   29.48414664,\n",
       "         29.24569137,   29.13327005,   28.76452441,   28.19853386,\n",
       "         27.95203347,   27.70290111,   27.01840448,   26.60052182,\n",
       "         26.37592704,   26.17564448,   26.12971778,   25.56520965,\n",
       "         25.00607753,   25.04454612,   24.8516005 ,   24.42938197,\n",
       "         23.8537431 ,   23.50898152,   23.08224396,   23.22446827,\n",
       "         22.27236047,   22.08071269,   21.64904763,   21.40309822,\n",
       "         21.17888652,   20.98847582,   20.03541261,   19.92328644,\n",
       "         19.54209572,   18.70334889,   18.76103403,   18.52868967,\n",
       "         18.02537671,   17.56646925,   17.27116377,   16.92846687,\n",
       "         16.80708466,   16.47409164,   16.0008901 ,   15.59146754,\n",
       "         15.3322232 ,   15.03548182,   14.82667284,   14.50030648,\n",
       "         14.18807135,   13.77642131,   13.56564879,   13.25546212,\n",
       "         12.97593559,   12.98229247,   12.38474346,   12.45090879,\n",
       "         11.81876694,   11.74192292,   12.14585109,   11.65460323,\n",
       "         11.74593556,   11.31729256,   11.11421929,   10.98530968,\n",
       "         10.72274516,   11.16788881,   10.50140899,   10.65010073,\n",
       "         10.47614339,   10.42066567,   10.47632768,   10.17146258,\n",
       "         10.22076067,   10.12046762,   10.11147141,   10.02426564,\n",
       "         10.03139875,   10.3467347 ,   10.62010005,   10.26221786,\n",
       "         10.45424818,   10.7865937 ,   10.60736795,   10.76518426,\n",
       "         10.85570787,   10.85915255,   10.93872169,   11.1699474 ,\n",
       "         11.28919086,   11.5202495 ,   11.30815541,   11.76317202,\n",
       "         11.5409844 ,   11.39358131,   11.58780275,   12.0987217 ,\n",
       "         12.82385622,   12.91289088,   13.02186673,   14.0002614 ,\n",
       "         14.58131426,   15.32223441,   15.58684273,   16.47235816,\n",
       "         16.87690933,   16.95359311,   17.0406917 ,   17.29488201,\n",
       "         16.71908064,   16.98982741,   16.52994746,   16.34313602,\n",
       "         15.76259351,   15.26023828,   15.09064991,   14.96023784,\n",
       "         14.88593014,   14.90845077,   15.05865821,   15.1866163 ,\n",
       "         15.91824178,   16.11942208,   17.03832863,   17.56147878,\n",
       "         18.79549419,   21.83719036,   30.27745741])"
      ]
     },
     "execution_count": 29,
     "metadata": {},
     "output_type": "execute_result"
    }
   ],
   "source": [
    "losses"
   ]
  },
  {
   "cell_type": "code",
   "execution_count": 30,
   "metadata": {},
   "outputs": [],
   "source": [
    "lrs = np.load(path+\"lrs.npy\")"
   ]
  },
  {
   "cell_type": "code",
   "execution_count": 9,
   "metadata": {},
   "outputs": [
    {
     "data": {
      "text/plain": [
       "array([-4.       , -3.9791667, -3.9583333, -3.9375   , -3.9166667,\n",
       "       -3.8958333, -3.875    , -3.8541667, -3.8333335, -3.8125   ,\n",
       "       -3.7916667, -3.7708333, -3.75     , -3.7291667, -3.7083335,\n",
       "       -3.6875   , -3.6666667, -3.6458333, -3.625    , -3.6041667,\n",
       "       -3.5833335, -3.5625   , -3.5416667, -3.5208335, -3.5      ,\n",
       "       -3.4791667, -3.4583335, -3.4375   , -3.4166667, -3.3958335,\n",
       "       -3.375    , -3.3541667, -3.3333335, -3.3125   , -3.2916667,\n",
       "       -3.2708335, -3.25     , -3.2291667, -3.2083335, -3.1875   ,\n",
       "       -3.1666667, -3.1458335, -3.125    , -3.1041667, -3.0833335,\n",
       "       -3.0625   , -3.0416667, -3.0208335, -3.       , -2.9791667,\n",
       "       -2.9583335, -2.9375   , -2.9166667, -2.8958335, -2.875    ,\n",
       "       -2.8541667, -2.8333335, -2.8125   , -2.7916667, -2.7708335,\n",
       "       -2.75     , -2.7291667, -2.7083335, -2.6875   , -2.6666667,\n",
       "       -2.6458335, -2.625    , -2.6041667, -2.5833335, -2.5625   ,\n",
       "       -2.5416667, -2.5208333, -2.5      , -2.4791667, -2.4583333,\n",
       "       -2.4375   , -2.4166667, -2.3958333, -2.375    , -2.3541667,\n",
       "       -2.3333333, -2.3125   , -2.2916665, -2.2708333, -2.25     ,\n",
       "       -2.2291665, -2.2083333, -2.1875   , -2.1666665, -2.1458333,\n",
       "       -2.125    , -2.1041665, -2.0833333, -2.0625   , -2.0416665,\n",
       "       -2.0208333, -1.9999999], dtype=float32)"
      ]
     },
     "execution_count": 9,
     "metadata": {},
     "output_type": "execute_result"
    }
   ],
   "source": [
    "lrs"
   ]
  },
  {
   "cell_type": "code",
   "execution_count": 33,
   "metadata": {},
   "outputs": [
    {
     "data": {
      "text/plain": [
       "[<matplotlib.lines.Line2D at 0x7f4410592940>]"
      ]
     },
     "execution_count": 33,
     "metadata": {},
     "output_type": "execute_result"
    },
    {
     "data": {
      "image/png": "[encoded data removed]",
      "text/plain": [
       "<Figure size 432x288 with 1 Axes>"
      ]
     },
     "metadata": {},
     "output_type": "display_data"
    }
   ],
   "source": [
    "plt.plot(lrs[50:], losses[50:])"
   ]
  },
  {
   "cell_type": "code",
   "execution_count": 34,
   "metadata": {},
   "outputs": [
    {
     "data": {
      "text/plain": [
       "0.01778279410038923"
      ]
     },
     "execution_count": 34,
     "metadata": {},
     "output_type": "execute_result"
    }
   ],
   "source": [
    "10**(-1.75)"
   ]
  }
 ],
 "metadata": {
  "kernelspec": {
   "display_name": "Environment (conda_tensorflow_p36)",
   "language": "python",
   "name": "conda_tensorflow_p36"
  },
  "language_info": {
   "codemirror_mode": {
    "name": "ipython",
    "version": 3
   },
   "file_extension": ".py",
   "mimetype": "text/x-python",
   "name": "python",
   "nbconvert_exporter": "python",
   "pygments_lexer": "ipython3",
   "version": "3.6.5"
  }
 },
 "nbformat": 4,
 "nbformat_minor": 2
}
